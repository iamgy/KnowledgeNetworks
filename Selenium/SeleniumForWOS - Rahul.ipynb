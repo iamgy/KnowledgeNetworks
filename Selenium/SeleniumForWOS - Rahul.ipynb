{
 "cells": [
  {
   "cell_type": "code",
   "execution_count": null,
   "metadata": {
    "collapsed": true
   },
   "outputs": [],
   "source": [
    "import selenium\n",
    "from selenium import webdriver\n",
    "from selenium.webdriver.common.keys import Keys\n",
    "from selenium.webdriver.support.ui import Select\n",
    "from selenium.webdriver.support.ui import WebDriverWait\n",
    "from selenium.webdriver.support import expected_conditions as EC\n",
    "from selenium.webdriver.common.by import By"
   ]
  },
  {
   "cell_type": "code",
   "execution_count": null,
   "metadata": {
    "collapsed": false
   },
   "outputs": [],
   "source": [
    "def uw_login(driver,username,password):\n",
    "    \"\"\"\n",
    "    Function to login via UW Net ID\n",
    "    \"\"\"\n",
    "    #Input Username\n",
    "    username_textbox = driver.find_element_by_id('weblogin_netid')\n",
    "    username_textbox.send_keys(username)\n",
    "    #Input Password\n",
    "    password_textbox = driver.find_element_by_id('weblogin_password')\n",
    "    password_textbox.send_keys(password)\n",
    "    #Click on Submit\n",
    "    submit_button = driver.find_element_by_name('submit').click()\n",
    "    return"
   ]
  },
  {
   "cell_type": "code",
   "execution_count": null,
   "metadata": {
    "collapsed": true
   },
   "outputs": [],
   "source": [
    "def keyword_search(driver,keywords):\n",
    "    \"\"\"\n",
    "    Function to input given keywords to search bar\n",
    "    \"\"\"\n",
    "    a = 14;\n",
    "    for i in range(len(keywords)):\n",
    "        #Input keyword\n",
    "        WebDriverWait(driver,5).until(EC.presence_of_element_located((By.XPATH,'//*[@id=\"value(input%d)\"]'%(i+1))))\n",
    "        driver.find_element_by_xpath('//*[@id=\"value(input%d)\"]'%(i+1)).send_keys(keywords[i])\n",
    "        #Add new Search Row\n",
    "        WebDriverWait(driver,5).until(EC.presence_of_element_located((By.XPATH,'//*[@id=\"addSearchRow%d\"]/span[1]'%(i+1))))\n",
    "        driver.find_element_by_xpath('//*[@id=\"addSearchRow%d\"]/span[1]'%(i+1)).click()\n",
    "        WebDriverWait(driver,5).until(EC.presence_of_element_located((By.XPATH,'//*[@id=\"s2id_value(bool_%d_%d)\"]'%(i+1,i+2))))\n",
    "        driver.find_element_by_xpath('//*[@id=\"s2id_value(bool_%d_%d)\"]'%(i+1,i+2)).click()\n",
    "        WebDriverWait(driver,5).until(EC.presence_of_element_located((By.XPATH,'//*[@id=\"select2-results-%d\"]/li[2]'%a)))\n",
    "        driver.find_element_by_xpath('//*[@id=\"select2-results-%d\"]/li[2]'%a).click()\n",
    "        a=a+5\n",
    "    return"
   ]
  },
  {
   "cell_type": "code",
   "execution_count": null,
   "metadata": {
    "collapsed": true
   },
   "outputs": [],
   "source": [
    "def select_year(driver,year):\n",
    "    \"\"\"\n",
    "    Function to select year\n",
    "    \"\"\"\n",
    "    driver.find_element_by_xpath('//*[@id=\"periodRange\"]').click()\n",
    "    a1=101\n",
    "    a2=18\n",
    "    b=year-2000\n",
    "    #Start year\n",
    "    #Opening dropdown of starting year\n",
    "    driver.find_element_by_xpath('//*[@id=\"s2id_autogen4\"]/a').click()\n",
    "    #Select year from dropdown\n",
    "    a=a1+b\n",
    "    driver.find_element_by_xpath('//*[@id=\"select2-results-5\"]/li[%d]'%a).click()\n",
    "    #Opening dropdown of ending year\n",
    "    driver.find_element_by_xpath('//*[@id=\"s2id_autogen6\"]/a').click()\n",
    "    #Select year from dropdown\n",
    "    a=a2-b\n",
    "    driver.find_element_by_xpath('//*[@id=\"select2-results-7\"]/li[%d]'%a).click()\n",
    "    return"
   ]
  },
  {
   "cell_type": "code",
   "execution_count": null,
   "metadata": {
    "collapsed": true
   },
   "outputs": [],
   "source": [
    "def download_page(driver,page_no):\n",
    "    \"\"\"\n",
    "    Function to download page results\n",
    "    \"\"\"\n",
    "    WebDriverWait(driver,5).until(EC.presence_of_element_located((By.XPATH,'//*[@id=\"summary_navigation\"]/table/tbody/tr/td[2]/input')))\n",
    "    page=driver.find_element_by_xpath('//*[@id=\"summary_navigation\"]/table/tbody/tr/td[2]/input')\n",
    "    page.clear()\n",
    "    page.send_keys(page_no)\n",
    "    page.send_keys(Keys.RETURN)\n",
    "    #Open dropdown menu to save\n",
    "    WebDriverWait(driver,5).until(EC.presence_of_element_located((By.XPATH,'//*[@id=\"s2id_saveToMenu\"]/a/span[2]/b')))\n",
    "    driver.find_element_by_xpath('//*[@id=\"s2id_saveToMenu\"]/a/span[2]/b').click()\n",
    "    #Click to other file formats\n",
    "    WebDriverWait(driver,5).until(EC.presence_of_element_located((By.XPATH,'//*[@id=\"select2-results-1\"]/li[5]')))\n",
    "    driver.find_element_by_xpath('//*[@id=\"select2-results-1\"]/li[5]').click()\n",
    "    #Full Record\n",
    "    WebDriverWait(driver,5).until(EC.presence_of_element_located((By.ID,'bib_fields')))\n",
    "    driver.find_element_by_id('bib_fields').click()\n",
    "    WebDriverWait(driver,5).until(EC.presence_of_element_located((By.ID,'bib_fields:fullrec_fields_option')))\n",
    "    driver.find_element_by_id('bib_fields:fullrec_fields_option').click()\n",
    "    #Choose Plain Text format\n",
    "    WebDriverWait(driver,5).until(EC.presence_of_element_located((By.ID,'saveOptions')))\n",
    "    dropdown = driver.find_element_by_id('saveOptions')\n",
    "    Select(dropdown).select_by_visible_text(file_format)\n",
    "    #Click on send button\n",
    "    WebDriverWait(driver,5).until(EC.presence_of_element_located((By.XPATH,'//*[@id=\"ui-id-7\"]/form/div[4]/span/input')))\n",
    "    driver.find_element_by_xpath('//*[@id=\"ui-id-7\"]/form/div[4]/span/input').click()\n",
    "    #Click on close button after download\n",
    "    WebDriverWait(driver,5).until(EC.presence_of_element_located((By.XPATH,'//*[@id=\"ui-id-7\"]/form/div[2]/a')))\n",
    "    driver.find_element_by_xpath('//*[@id=\"ui-id-7\"]/form/div[2]/a').click()\n",
    "    return"
   ]
  },
  {
   "cell_type": "code",
   "execution_count": null,
   "metadata": {
    "collapsed": false
   },
   "outputs": [],
   "source": [
    "def webofscience(username,password,keywords,year,pages,file_format):\n",
    "    \"\"\"\n",
    "    Function to download results from Compendex\n",
    "    \"\"\"\n",
    "    #Initializing driver\n",
    "    driver = webdriver.Chrome()\n",
    "    driver.get(\"http://offcampus.lib.washington.edu/login?url=http://www.webofknowledge.com/WOS\")\n",
    "    #UW Net ID Login\n",
    "    if (driver.title == \"UW NetID Weblogin\"):\n",
    "        uw_login(driver,username,password)\n",
    "    #Add Keywords\n",
    "    keyword_search(driver,keywords)\n",
    "    #Add Year\n",
    "    select_year(driver,year)\n",
    "    #Click on search\n",
    "    a=9\n",
    "    b=8-len(keywords)\n",
    "    a=a-b\n",
    "    WebDriverWait(driver,5).until(EC.presence_of_element_located((By.XPATH,'//*[@id=\"searchCell%d\"]'%a)))\n",
    "    driver.find_element_by_xpath('//*[@id=\"searchCell%d\"]'%a).click()\n",
    "    #Increase page size to 50 results per page\n",
    "    WebDriverWait(driver,5).until(EC.presence_of_element_located((By.XPATH,'//*[@id=\"s2id_selectPageSize_.bottom\"]/a')))\n",
    "    driver.find_element_by_xpath('//*[@id=\"s2id_selectPageSize_.bottom\"]/a').click()\n",
    "    WebDriverWait(driver,5).until(EC.presence_of_element_located((By.XPATH,'//*[@id=\"select2-results-5\"]/li[3]')))\n",
    "    driver.find_element_by_xpath('//*[@id=\"select2-results-5\"]/li[3]').click()\n",
    "    #Refine results\n",
    "    driver.find_element_by_xpath('//*[@id=\"JCRCategories_tr\"]/div[2]').click()\n",
    "    driver.find_element_by_xpath('//*[@id=\"s2id_autogen1\"]/a').click()\n",
    "    for i in [1,3,4,6,7,8,9,10,13,14]:\n",
    "        driver.find_element_by_xpath('//*[@id=\"TASCA_%d\"]'%i).click()\n",
    "    driver.find_element_by_xpath('//*[@id=\"raMore\"]/table/tbody/tr[6]/td/table/tbody/tr/td[1]/div/input').click()\n",
    "    #Go to starting page\n",
    "    for i in pages:\n",
    "        download_page(driver,i)\n",
    "    return"
   ]
  },
  {
   "cell_type": "code",
   "execution_count": null,
   "metadata": {
    "collapsed": false
   },
   "outputs": [],
   "source": [
    "username = '<username>'\n",
    "password = '<password>'\n",
    "keywords = ['hot cell','enrichment','uranium','centrifuge','plutonium','thorium','americum','uranate','uranyl','deuterium','tritium','radioactiv*','radioisotop*','spent fuel','PuO2','UO2','UO3','UF4','UF6','ADU','AUC']\n",
    "year = 2000\n",
    "pages = range(1,3)\n",
    "file_format = 'Tab-delimited (Win, UTF-8)'\n",
    "webofscience(username,password,keywords,year,pages,file_format)"
   ]
  }
 ],
 "metadata": {
  "anaconda-cloud": {},
  "kernelspec": {
   "display_name": "Python [conda root]",
   "language": "python",
   "name": "conda-root-py"
  },
  "language_info": {
   "codemirror_mode": {
    "name": "ipython",
    "version": 3
   },
   "file_extension": ".py",
   "mimetype": "text/x-python",
   "name": "python",
   "nbconvert_exporter": "python",
   "pygments_lexer": "ipython3",
   "version": "3.5.3"
  }
 },
 "nbformat": 4,
 "nbformat_minor": 2
}
