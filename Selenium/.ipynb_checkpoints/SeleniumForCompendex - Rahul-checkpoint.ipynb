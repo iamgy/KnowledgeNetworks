{
 "cells": [
  {
   "cell_type": "code",
   "execution_count": 1,
   "metadata": {
    "collapsed": true
   },
   "outputs": [],
   "source": [
    "import selenium\n",
    "from selenium import webdriver\n",
    "from selenium.webdriver.common.keys import Keys\n",
    "from selenium.webdriver.support.ui import Select\n",
    "from selenium.webdriver.support.ui import WebDriverWait\n",
    "from selenium.webdriver.support import expected_conditions as EC\n",
    "from selenium.webdriver.common.by import By"
   ]
  },
  {
   "cell_type": "code",
   "execution_count": 9,
   "metadata": {
    "collapsed": false
   },
   "outputs": [],
   "source": [
    "def compendex(username,password,keywords,no_of_pages,pg_no):\n",
    "    \"\"\"\n",
    "    Function to download results from Compendex\n",
    "    \"\"\"\n",
    "    #Initializing driver\n",
    "    driver = webdriver.Chrome()\n",
    "    driver.get(\"https://www-engineeringvillage-com.offcampus.lib.washington.edu/search/quick.url?CID=quickSearch&database=compendex\")\n",
    "    #UW Net ID Login\n",
    "    if (driver.title == \"UW NetID Weblogin\"):\n",
    "        username_textbox = driver.find_element_by_id('weblogin_netid')\n",
    "        username_textbox.send_keys(username)\n",
    "        password_textbox = driver.find_element_by_id('weblogin_password')\n",
    "        password_textbox.send_keys(password)\n",
    "        submit_button = driver.find_element_by_name('submit').click()\n",
    "    #Search keywords\n",
    "    driver.find_element_by_id(\"srchWrd1\").send_keys(keywords[0])\n",
    "    driver.find_element_by_id(\"addsearchllink\").click()\n",
    "    for i in range(len(keywords)-1):\n",
    "        if i<2:\n",
    "            dropdown1 = driver.find_element_by_id(\"cbnt%d\"%(i+1))\n",
    "            Select(dropdown1).select_by_visible_text(\"OR\")\n",
    "            driver.find_element_by_id(\"srchWrd%d\"%(i+2)).send_keys(keywords[i+1])\n",
    "        else:\n",
    "            dropdown1 = driver.find_element_by_id('connector')\n",
    "            Select(dropdown1).select_by_visible_text(\"OR\")\n",
    "            driver.find_element_by_name(\"searchWords\").send_keys(keywords[i+1])\n",
    "        driver.find_element_by_id(\"addsearchllink\").click()\n",
    "    driver.find_element_by_xpath('//*[@id=\"advancedOptionstoggleAnchor\"]').click()\n",
    "    WebDriverWait(driver, 30).until(EC.visibility_of_element_located((By.XPATH,'//*[@id=\"startyrrange\"]')));\n",
    "    dropdown1 = driver.find_element_by_xpath('//*[@id=\"startyrrange\"]')\n",
    "    Select(dropdown1).select_by_visible_text(\"2000\")\n",
    "    driver.find_element_by_id(\"submitsearch_tool\").click()\n",
    "    #Increase number of results in page to 100\n",
    "    WebDriverWait(driver,5).until(EC.presence_of_element_located((By.ID, \"pageSizeVal_top\")))\n",
    "    dropdown1=driver.find_element_by_id(\"pageSizeVal_top\")\n",
    "    Select(dropdown1).select_by_visible_text(\"100\")\n",
    "    #Page number\n",
    "    WebDriverWait(driver,5).until(EC.presence_of_element_located((By.XPATH, '//*[@id=\"gotopage_top\"]/span[2]/input[1]')))\n",
    "    driver.find_element_by_xpath('//*[@id=\"gotopage_top\"]/span[2]/input[1]').clear()\n",
    "    driver.find_element_by_xpath('//*[@id=\"gotopage_top\"]/span[2]/input[1]').send_keys(pg_no)\n",
    "    driver.find_element_by_xpath('//*[@id=\"gotopage_top\"]/span[2]/input[2]').click()\n",
    "    #Select all results\n",
    "    WebDriverWait(driver,5).until(EC.presence_of_element_located((By.ID, \"pageckbx\")))\n",
    "    driver.find_element_by_id(\"pageckbx\").click()\n",
    "    for i in range(4):\n",
    "        driver.find_element_by_class_name(\"blackpipeleft\").click()\n",
    "        WebDriverWait(driver,5).until(EC.presence_of_element_located((By.ID, \"pageckbx\")))\n",
    "        driver.find_element_by_id(\"pageckbx\").click()\n",
    "    WebDriverWait(driver,5).until(EC.presence_of_element_located((By.ID, \"downloadli\")))\n",
    "    WebDriverWait(driver, 30).until(EC.visibility_of_element_located((By.ID,'downloadli')));\n",
    "    driver.find_element_by_id(\"downloadli\").click()\n",
    "    WebDriverWait(driver,5).until(EC.presence_of_element_located((By.ID, \"rdCsv\")))\n",
    "    driver.find_element_by_id(\"rdCsv\").click()\n",
    "    driver.find_element_by_id(\"rdDet\").click()\n",
    "    driver.find_element_by_id(\"savePrefsButton\").click()\n",
    "    for i in range(no_of_pages-1):\n",
    "        driver.find_element_by_id(\"clearbasket\").click()\n",
    "        #WebDriverWait(driver,5).until(EC.presence_of_element_located((By.XPATH,\"/html/body/div[12]/div[3]/div/button[1]\")))\n",
    "        driver.find_element_by_xpath(\"/html/body/div[12]/div[3]/div/button[1]\").click()\n",
    "        for i in range(5):\n",
    "            driver.find_element_by_class_name(\"blackpipeleft\").click()\n",
    "            WebDriverWait(driver,5).until(EC.presence_of_element_located((By.ID, \"pageckbx\")))\n",
    "            driver.find_element_by_id(\"pageckbx\").click()\n",
    "        WebDriverWait(driver,5).until(EC.presence_of_element_located((By.ID, \"downloadli\")))\n",
    "        WebDriverWait(driver, 30).until(EC.visibility_of_element_located((By.ID,'downloadli')));\n",
    "        driver.find_element_by_id(\"downloadli\").click()\n",
    "    return"
   ]
  },
  {
   "cell_type": "code",
   "execution_count": 10,
   "metadata": {
    "collapsed": false
   },
   "outputs": [
    {
     "ename": "NoSuchElementException",
     "evalue": "Message: no such element: Unable to locate element: {\"method\":\"xpath\",\"selector\":\"/html/body/div[12]/div[3]/div/button[1]\"}\n  (Session info: chrome=57.0.2987.133)\n  (Driver info: chromedriver=2.29.461591 (62ebf098771772160f391d75e589dc567915b233),platform=Windows NT 10.0.14393 x86_64)\n",
     "output_type": "error",
     "traceback": [
      "\u001b[0;31m---------------------------------------------------------------------------\u001b[0m",
      "\u001b[0;31mNoSuchElementException\u001b[0m                    Traceback (most recent call last)",
      "\u001b[0;32m<ipython-input-10-92fd6c1a2ef9>\u001b[0m in \u001b[0;36m<module>\u001b[0;34m()\u001b[0m\n\u001b[1;32m      6\u001b[0m \u001b[1;31m#Page Number\u001b[0m\u001b[1;33m\u001b[0m\u001b[1;33m\u001b[0m\u001b[0m\n\u001b[1;32m      7\u001b[0m \u001b[0mpg_no\u001b[0m \u001b[1;33m=\u001b[0m \u001b[1;36m1\u001b[0m\u001b[1;33m\u001b[0m\u001b[0m\n\u001b[0;32m----> 8\u001b[0;31m \u001b[0mcompendex\u001b[0m\u001b[1;33m(\u001b[0m\u001b[0musername\u001b[0m\u001b[1;33m,\u001b[0m\u001b[0mpassword\u001b[0m\u001b[1;33m,\u001b[0m\u001b[0mkeywords\u001b[0m\u001b[1;33m,\u001b[0m\u001b[0mno_of_pages\u001b[0m\u001b[1;33m,\u001b[0m\u001b[0mpg_no\u001b[0m\u001b[1;33m)\u001b[0m\u001b[1;33m\u001b[0m\u001b[0m\n\u001b[0m",
      "\u001b[0;32m<ipython-input-9-f6804d9f3c5c>\u001b[0m in \u001b[0;36mcompendex\u001b[0;34m(username, password, keywords, no_of_pages, pg_no)\u001b[0m\n\u001b[1;32m     57\u001b[0m         \u001b[0mdriver\u001b[0m\u001b[1;33m.\u001b[0m\u001b[0mfind_element_by_id\u001b[0m\u001b[1;33m(\u001b[0m\u001b[1;34m\"clearbasket\"\u001b[0m\u001b[1;33m)\u001b[0m\u001b[1;33m.\u001b[0m\u001b[0mclick\u001b[0m\u001b[1;33m(\u001b[0m\u001b[1;33m)\u001b[0m\u001b[1;33m\u001b[0m\u001b[0m\n\u001b[1;32m     58\u001b[0m         \u001b[1;31m#WebDriverWait(driver,5).until(EC.presence_of_element_located((By.XPATH,\"/html/body/div[12]/div[3]/div/button[1]\")))\u001b[0m\u001b[1;33m\u001b[0m\u001b[1;33m\u001b[0m\u001b[0m\n\u001b[0;32m---> 59\u001b[0;31m         \u001b[0mdriver\u001b[0m\u001b[1;33m.\u001b[0m\u001b[0mfind_element_by_xpath\u001b[0m\u001b[1;33m(\u001b[0m\u001b[1;34m\"/html/body/div[12]/div[3]/div/button[1]\"\u001b[0m\u001b[1;33m)\u001b[0m\u001b[1;33m.\u001b[0m\u001b[0mclick\u001b[0m\u001b[1;33m(\u001b[0m\u001b[1;33m)\u001b[0m\u001b[1;33m\u001b[0m\u001b[0m\n\u001b[0m\u001b[1;32m     60\u001b[0m         \u001b[1;32mfor\u001b[0m \u001b[0mi\u001b[0m \u001b[1;32min\u001b[0m \u001b[0mrange\u001b[0m\u001b[1;33m(\u001b[0m\u001b[1;36m5\u001b[0m\u001b[1;33m)\u001b[0m\u001b[1;33m:\u001b[0m\u001b[1;33m\u001b[0m\u001b[0m\n\u001b[1;32m     61\u001b[0m             \u001b[0mdriver\u001b[0m\u001b[1;33m.\u001b[0m\u001b[0mfind_element_by_class_name\u001b[0m\u001b[1;33m(\u001b[0m\u001b[1;34m\"blackpipeleft\"\u001b[0m\u001b[1;33m)\u001b[0m\u001b[1;33m.\u001b[0m\u001b[0mclick\u001b[0m\u001b[1;33m(\u001b[0m\u001b[1;33m)\u001b[0m\u001b[1;33m\u001b[0m\u001b[0m\n",
      "\u001b[0;32mC:\\Users\\rahul\\Miniconda3\\lib\\site-packages\\selenium\\webdriver\\remote\\webdriver.py\u001b[0m in \u001b[0;36mfind_element_by_xpath\u001b[0;34m(self, xpath)\u001b[0m\n\u001b[1;32m    304\u001b[0m             \u001b[0mdriver\u001b[0m\u001b[1;33m.\u001b[0m\u001b[0mfind_element_by_xpath\u001b[0m\u001b[1;33m(\u001b[0m\u001b[1;34m'//div/td[1]'\u001b[0m\u001b[1;33m)\u001b[0m\u001b[1;33m\u001b[0m\u001b[0m\n\u001b[1;32m    305\u001b[0m         \"\"\"\n\u001b[0;32m--> 306\u001b[0;31m         \u001b[1;32mreturn\u001b[0m \u001b[0mself\u001b[0m\u001b[1;33m.\u001b[0m\u001b[0mfind_element\u001b[0m\u001b[1;33m(\u001b[0m\u001b[0mby\u001b[0m\u001b[1;33m=\u001b[0m\u001b[0mBy\u001b[0m\u001b[1;33m.\u001b[0m\u001b[0mXPATH\u001b[0m\u001b[1;33m,\u001b[0m \u001b[0mvalue\u001b[0m\u001b[1;33m=\u001b[0m\u001b[0mxpath\u001b[0m\u001b[1;33m)\u001b[0m\u001b[1;33m\u001b[0m\u001b[0m\n\u001b[0m\u001b[1;32m    307\u001b[0m \u001b[1;33m\u001b[0m\u001b[0m\n\u001b[1;32m    308\u001b[0m     \u001b[1;32mdef\u001b[0m \u001b[0mfind_elements_by_xpath\u001b[0m\u001b[1;33m(\u001b[0m\u001b[0mself\u001b[0m\u001b[1;33m,\u001b[0m \u001b[0mxpath\u001b[0m\u001b[1;33m)\u001b[0m\u001b[1;33m:\u001b[0m\u001b[1;33m\u001b[0m\u001b[0m\n",
      "\u001b[0;32mC:\\Users\\rahul\\Miniconda3\\lib\\site-packages\\selenium\\webdriver\\remote\\webdriver.py\u001b[0m in \u001b[0;36mfind_element\u001b[0;34m(self, by, value)\u001b[0m\n\u001b[1;32m    782\u001b[0m         return self.execute(Command.FIND_ELEMENT, {\n\u001b[1;32m    783\u001b[0m             \u001b[1;34m'using'\u001b[0m\u001b[1;33m:\u001b[0m \u001b[0mby\u001b[0m\u001b[1;33m,\u001b[0m\u001b[1;33m\u001b[0m\u001b[0m\n\u001b[0;32m--> 784\u001b[0;31m             'value': value})['value']\n\u001b[0m\u001b[1;32m    785\u001b[0m \u001b[1;33m\u001b[0m\u001b[0m\n\u001b[1;32m    786\u001b[0m     \u001b[1;32mdef\u001b[0m \u001b[0mfind_elements\u001b[0m\u001b[1;33m(\u001b[0m\u001b[0mself\u001b[0m\u001b[1;33m,\u001b[0m \u001b[0mby\u001b[0m\u001b[1;33m=\u001b[0m\u001b[0mBy\u001b[0m\u001b[1;33m.\u001b[0m\u001b[0mID\u001b[0m\u001b[1;33m,\u001b[0m \u001b[0mvalue\u001b[0m\u001b[1;33m=\u001b[0m\u001b[1;32mNone\u001b[0m\u001b[1;33m)\u001b[0m\u001b[1;33m:\u001b[0m\u001b[1;33m\u001b[0m\u001b[0m\n",
      "\u001b[0;32mC:\\Users\\rahul\\Miniconda3\\lib\\site-packages\\selenium\\webdriver\\remote\\webdriver.py\u001b[0m in \u001b[0;36mexecute\u001b[0;34m(self, driver_command, params)\u001b[0m\n\u001b[1;32m    247\u001b[0m         \u001b[0mresponse\u001b[0m \u001b[1;33m=\u001b[0m \u001b[0mself\u001b[0m\u001b[1;33m.\u001b[0m\u001b[0mcommand_executor\u001b[0m\u001b[1;33m.\u001b[0m\u001b[0mexecute\u001b[0m\u001b[1;33m(\u001b[0m\u001b[0mdriver_command\u001b[0m\u001b[1;33m,\u001b[0m \u001b[0mparams\u001b[0m\u001b[1;33m)\u001b[0m\u001b[1;33m\u001b[0m\u001b[0m\n\u001b[1;32m    248\u001b[0m         \u001b[1;32mif\u001b[0m \u001b[0mresponse\u001b[0m\u001b[1;33m:\u001b[0m\u001b[1;33m\u001b[0m\u001b[0m\n\u001b[0;32m--> 249\u001b[0;31m             \u001b[0mself\u001b[0m\u001b[1;33m.\u001b[0m\u001b[0merror_handler\u001b[0m\u001b[1;33m.\u001b[0m\u001b[0mcheck_response\u001b[0m\u001b[1;33m(\u001b[0m\u001b[0mresponse\u001b[0m\u001b[1;33m)\u001b[0m\u001b[1;33m\u001b[0m\u001b[0m\n\u001b[0m\u001b[1;32m    250\u001b[0m             response['value'] = self._unwrap_value(\n\u001b[1;32m    251\u001b[0m                 response.get('value', None))\n",
      "\u001b[0;32mC:\\Users\\rahul\\Miniconda3\\lib\\site-packages\\selenium\\webdriver\\remote\\errorhandler.py\u001b[0m in \u001b[0;36mcheck_response\u001b[0;34m(self, response)\u001b[0m\n\u001b[1;32m    191\u001b[0m         \u001b[1;32melif\u001b[0m \u001b[0mexception_class\u001b[0m \u001b[1;33m==\u001b[0m \u001b[0mUnexpectedAlertPresentException\u001b[0m \u001b[1;32mand\u001b[0m \u001b[1;34m'alert'\u001b[0m \u001b[1;32min\u001b[0m \u001b[0mvalue\u001b[0m\u001b[1;33m:\u001b[0m\u001b[1;33m\u001b[0m\u001b[0m\n\u001b[1;32m    192\u001b[0m             \u001b[1;32mraise\u001b[0m \u001b[0mexception_class\u001b[0m\u001b[1;33m(\u001b[0m\u001b[0mmessage\u001b[0m\u001b[1;33m,\u001b[0m \u001b[0mscreen\u001b[0m\u001b[1;33m,\u001b[0m \u001b[0mstacktrace\u001b[0m\u001b[1;33m,\u001b[0m \u001b[0mvalue\u001b[0m\u001b[1;33m[\u001b[0m\u001b[1;34m'alert'\u001b[0m\u001b[1;33m]\u001b[0m\u001b[1;33m.\u001b[0m\u001b[0mget\u001b[0m\u001b[1;33m(\u001b[0m\u001b[1;34m'text'\u001b[0m\u001b[1;33m)\u001b[0m\u001b[1;33m)\u001b[0m\u001b[1;33m\u001b[0m\u001b[0m\n\u001b[0;32m--> 193\u001b[0;31m         \u001b[1;32mraise\u001b[0m \u001b[0mexception_class\u001b[0m\u001b[1;33m(\u001b[0m\u001b[0mmessage\u001b[0m\u001b[1;33m,\u001b[0m \u001b[0mscreen\u001b[0m\u001b[1;33m,\u001b[0m \u001b[0mstacktrace\u001b[0m\u001b[1;33m)\u001b[0m\u001b[1;33m\u001b[0m\u001b[0m\n\u001b[0m\u001b[1;32m    194\u001b[0m \u001b[1;33m\u001b[0m\u001b[0m\n\u001b[1;32m    195\u001b[0m     \u001b[1;32mdef\u001b[0m \u001b[0m_value_or_default\u001b[0m\u001b[1;33m(\u001b[0m\u001b[0mself\u001b[0m\u001b[1;33m,\u001b[0m \u001b[0mobj\u001b[0m\u001b[1;33m,\u001b[0m \u001b[0mkey\u001b[0m\u001b[1;33m,\u001b[0m \u001b[0mdefault\u001b[0m\u001b[1;33m)\u001b[0m\u001b[1;33m:\u001b[0m\u001b[1;33m\u001b[0m\u001b[0m\n",
      "\u001b[0;31mNoSuchElementException\u001b[0m: Message: no such element: Unable to locate element: {\"method\":\"xpath\",\"selector\":\"/html/body/div[12]/div[3]/div/button[1]\"}\n  (Session info: chrome=57.0.2987.133)\n  (Driver info: chromedriver=2.29.461591 (62ebf098771772160f391d75e589dc567915b233),platform=Windows NT 10.0.14393 x86_64)\n"
     ]
    }
   ],
   "source": [
    "username = 'rahulavd'\n",
    "password = 'Ananth#123'\n",
    "keywords = ['nuclear','atomic','uranium','centrifuge']\n",
    "#Each page has 500 results\n",
    "no_of_pages = 8\n",
    "#Page Number\n",
    "pg_no = 1\n",
    "compendex(username,password,keywords,no_of_pages,pg_no)"
   ]
  },
  {
   "cell_type": "code",
   "execution_count": null,
   "metadata": {
    "collapsed": true
   },
   "outputs": [],
   "source": []
  }
 ],
 "metadata": {
  "anaconda-cloud": {},
  "kernelspec": {
   "display_name": "Python [default]",
   "language": "python",
   "name": "python3"
  },
  "language_info": {
   "codemirror_mode": {
    "name": "ipython",
    "version": 3
   },
   "file_extension": ".py",
   "mimetype": "text/x-python",
   "name": "python",
   "nbconvert_exporter": "python",
   "pygments_lexer": "ipython3",
   "version": "3.5.3"
  }
 },
 "nbformat": 4,
 "nbformat_minor": 0
}
