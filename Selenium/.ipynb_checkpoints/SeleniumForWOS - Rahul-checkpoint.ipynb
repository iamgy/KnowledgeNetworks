{
 "cells": [
  {
   "cell_type": "code",
   "execution_count": 47,
   "metadata": {
    "collapsed": true
   },
   "outputs": [],
   "source": [
    "import selenium\n",
    "from selenium import webdriver\n",
    "from selenium.webdriver.common.keys import Keys\n",
    "from selenium.webdriver.support.ui import Select\n",
    "from selenium.webdriver.support.ui import WebDriverWait\n",
    "from selenium.webdriver.support import expected_conditions as EC\n",
    "from selenium.webdriver.common.by import By"
   ]
  },
  {
   "cell_type": "code",
   "execution_count": 48,
   "metadata": {
    "collapsed": false
   },
   "outputs": [],
   "source": [
    "def uw_login(driver,username,password):\n",
    "    \"\"\"\n",
    "    Function to login via UW Net ID\n",
    "    \"\"\"\n",
    "    username_textbox = driver.find_element_by_id('weblogin_netid')\n",
    "    username_textbox.send_keys(username)\n",
    "    password_textbox = driver.find_element_by_id('weblogin_password')\n",
    "    password_textbox.send_keys(password)\n",
    "    submit_button = driver.find_element_by_name('submit').click()\n",
    "    return"
   ]
  },
  {
   "cell_type": "code",
   "execution_count": 55,
   "metadata": {
    "collapsed": true
   },
   "outputs": [],
   "source": [
    "def keyword_search(driver,keywords):\n",
    "    \"\"\"\n",
    "    Function to input given keywords to search bar\n",
    "    \"\"\"\n",
    "    a = 14;\n",
    "    for i in range(len(keywords)):\n",
    "        WebDriverWait(driver,5).until(EC.presence_of_element_located((By.XPATH,'//*[@id=\"value(input%d)\"]'%(i+1))))\n",
    "        driver.find_element_by_xpath('//*[@id=\"value(input%d)\"]'%(i+1)).send_keys(keywords[i])\n",
    "        WebDriverWait(driver,5).until(EC.presence_of_element_located((By.XPATH,'//*[@id=\"addSearchRow%d\"]/span[1]'%(i+1))))\n",
    "        driver.find_element_by_xpath('//*[@id=\"addSearchRow%d\"]/span[1]'%(i+1)).click()\n",
    "        WebDriverWait(driver,5).until(EC.presence_of_element_located((By.XPATH,'//*[@id=\"s2id_value(bool_%d_%d)\"]'%(i+1,i+2))))\n",
    "        driver.find_element_by_xpath('//*[@id=\"s2id_value(bool_%d_%d)\"]'%(i+1,i+2)).click()\n",
    "        WebDriverWait(driver,5).until(EC.presence_of_element_located((By.XPATH,'//*[@id=\"select2-results-%d\"]/li[2]'%a)))\n",
    "        driver.find_element_by_xpath('//*[@id=\"select2-results-%d\"]/li[2]'%a).click()\n",
    "        a=a+5\n",
    "    return"
   ]
  },
  {
   "cell_type": "code",
   "execution_count": 58,
   "metadata": {
    "collapsed": false
   },
   "outputs": [],
   "source": [
    "def webofscience(username,password,keywords,year,start_page,end_page,file_format):\n",
    "    \"\"\"\n",
    "    Function to download results from Compendex\n",
    "    \"\"\"\n",
    "    #Initializing driver\n",
    "    driver = webdriver.Chrome()\n",
    "    driver.get(\"http://offcampus.lib.washington.edu/login?url=http://www.webofknowledge.com/WOS\")\n",
    "    #UW Net ID Login\n",
    "    if (driver.title == \"UW NetID Weblogin\"):\n",
    "        uw_login(driver,username,password)\n",
    "    #Search keywords\n",
    "    keyword_search(driver,keywords)\n",
    "    driver.find_element_by_xpath('//*[@id=\"periodRange\"]').click()\n",
    "    #Start year\n",
    "    #Select year 2000\n",
    "    driver.find_element_by_xpath('//*[@id=\"s2id_autogen4\"]/a').click()\n",
    "    driver.find_element_by_xpath('//*[@id=\"select2-results-5\"]/li[101]').click()\n",
    "    driver.find_element_by_xpath('//*[@id=\"s2id_autogen6\"]/a').click()\n",
    "    #End year\n",
    "    #Select year 2000\n",
    "    driver.find_element_by_xpath('//*[@id=\"select2-results-7\"]/li[18]').click()\n",
    "    driver.find_element_by_xpath('//*[@id=\"searchCell9\"]').click()\n",
    "    #Increase page size to 50 results per page\n",
    "    driver.find_element_by_xpath('//*[@id=\"s2id_selectPageSize_.bottom\"]/a').click()\n",
    "    driver.find_element_by_xpath('//*[@id=\"select2-results-5\"]/li[3]').click()\n",
    "    #Open dropdown menu to save\n",
    "    driver.find_element_by_xpath('//*[@id=\"s2id_saveToMenu\"]/a/span[2]/b').click()\n",
    "    #Click to other file formats\n",
    "    driver.find_element_by_xpath('//*[@id=\"select2-results-1\"]/li[5]').click()\n",
    "    #Full Record\n",
    "    driver.find_element_by_id('bib_fields').click()\n",
    "    driver.find_element_by_id('bib_fields:fullrec_fields_option').click()\n",
    "    #Choose Plain Text format\n",
    "    dropdown = driver.find_element_by_id('saveOptions')\n",
    "    Select(dropdown).select_by_visible_text(file_format)\n",
    "    #Click on send button\n",
    "    driver.find_element_by_xpath('//*[@id=\"ui-id-7\"]/form/div[4]/span/input').click()\n",
    "    #Click on close button after download\n",
    "    driver.find_element_by_xpath('//*[@id=\"ui-id-7\"]/form/div[2]/a').click()\n",
    "    return"
   ]
  },
  {
   "cell_type": "code",
   "execution_count": 61,
   "metadata": {
    "collapsed": false
   },
   "outputs": [],
   "source": [
    "username = '<username>'\n",
    "password = '<password>'\n",
    "keywords = ['nuclear','atomic','uranium','centrifuge','enrichment','hot cell','plutonium','thorium']\n",
    "year = 2000\n",
    "start_page = 1\n",
    "end_page = 2\n",
    "file_format = 'Tab-delimited (Win)'\n",
    "webofscience(username,password,keywords,year,start_page,end_page,file_format)"
   ]
  }
 ],
 "metadata": {
  "anaconda-cloud": {},
  "kernelspec": {
   "display_name": "Python [conda root]",
   "language": "python",
   "name": "conda-root-py"
  },
  "language_info": {
   "codemirror_mode": {
    "name": "ipython",
    "version": 3
   },
   "file_extension": ".py",
   "mimetype": "text/x-python",
   "name": "python",
   "nbconvert_exporter": "python",
   "pygments_lexer": "ipython3",
   "version": "3.5.3"
  }
 },
 "nbformat": 4,
 "nbformat_minor": 2
}
