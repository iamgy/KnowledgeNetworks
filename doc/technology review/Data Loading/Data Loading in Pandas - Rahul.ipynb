{
 "cells": [
  {
   "cell_type": "code",
   "execution_count": 1,
   "metadata": {
    "collapsed": true
   },
   "outputs": [],
   "source": [
    "import pandas as pd\n",
    "import numpy as np"
   ]
  },
  {
   "cell_type": "code",
   "execution_count": 32,
   "metadata": {
    "collapsed": false
   },
   "outputs": [],
   "source": [
    "#Number of countries and collaboration count for each text file\n",
    "\n",
    "def collaboration_count(data,country_list,column_name):\n",
    "    \"\"\"\n",
    "    Function to count collaborations between 2 countries as well as number of papers from each country specified\n",
    "    \"\"\"\n",
    "    count={}\n",
    "    collaboration = np.zeros((len(country_list),len(country_list)))\n",
    "    for i in country_list:\n",
    "        count[i] = 0\n",
    "    for i in range(0,len(data)):\n",
    "        string1 = data[column_name][i]\n",
    "        a=[]\n",
    "        for j in string1.split():\n",
    "            for k in range(len(country_list)):\n",
    "                if j.lower() == country_list[k].lower() or j.lower() == (country_list[k].lower()+';'):\n",
    "                    if any(i == country_list[k] for i in a):\n",
    "                        pass\n",
    "                    else:\n",
    "                        count[country_list[k]] += 1\n",
    "                        a.append(country_list[k])\n",
    "        if len(a) > 1:\n",
    "            for m in a:\n",
    "                x_index = country_list.index(m)\n",
    "                for n in a:\n",
    "                    if m == n:\n",
    "                        pass\n",
    "                    else:\n",
    "                        y_index = country_list.index(n)\n",
    "                        collaboration[x_index][y_index] += 1\n",
    "    for i in range(len(country_list)):\n",
    "        collaboration[i][i] = count[country_list[i]]\n",
    "        \n",
    "    return collaboration"
   ]
  },
  {
   "cell_type": "code",
   "execution_count": null,
   "metadata": {
    "collapsed": true
   },
   "outputs": [],
   "source": [
    "def "
   ]
  },
  {
   "cell_type": "code",
   "execution_count": 33,
   "metadata": {
    "collapsed": false
   },
   "outputs": [],
   "source": [
    "data=pd.read_csv('savedrecs.txt',sep='\\t',engine='python',usecols=['C1'],keep_default_na=False,index_col=False)\n",
    "data['Year'] = 2000\n",
    "#List of countries to be counted\n",
    "country_list = ['USA','Germany','France','China','Japan','Australia','Canada','Brazil','Mexico','South Africa',\n",
    "           'India','Korea','Israel','Turkey','Saudi Arabia','Iran','Spain','Netherlands','Sweden','Norway',\n",
    "           'Poland','Indonesia','Brazil','Switzerland','Denmark','Singapore','Iceland','Hong Kong','New Zealand','Belgium',\n",
    "           'Austria','Italy','Czech','Greece','Qatar','Portugal','Hungary','Argentina','Romania','England',\n",
    "           'Taiwan','Lithuania']\n",
    "result = collaboration_count(data,country_list,'C1')"
   ]
  },
  {
   "cell_type": "code",
   "execution_count": 34,
   "metadata": {
    "collapsed": false
   },
   "outputs": [
    {
     "data": {
      "text/plain": [
       "1.0"
      ]
     },
     "execution_count": 34,
     "metadata": {},
     "output_type": "execute_result"
    }
   ],
   "source": [
    "result[country_list.index('USA')][country_list.index('Lithuania')]"
   ]
  },
  {
   "cell_type": "code",
   "execution_count": 35,
   "metadata": {
    "collapsed": false
   },
   "outputs": [
    {
     "name": "stdout",
     "output_type": "stream",
     "text": [
      "2000\n"
     ]
    }
   ],
   "source": [
    "print('%d'%2000)"
   ]
  },
  {
   "cell_type": "code",
   "execution_count": 36,
   "metadata": {
    "collapsed": false
   },
   "outputs": [
    {
     "data": {
      "text/plain": [
       "array([[ 11.,   2.,   1., ...,   0.,   0.,   1.],\n",
       "       [  2.,  10.,   0., ...,   0.,   0.,   0.],\n",
       "       [  1.,   0.,   3., ...,   0.,   0.,   0.],\n",
       "       ..., \n",
       "       [  0.,   0.,   0., ...,   0.,   0.,   0.],\n",
       "       [  0.,   0.,   0., ...,   0.,   1.,   0.],\n",
       "       [  1.,   0.,   0., ...,   0.,   0.,   1.]])"
      ]
     },
     "execution_count": 36,
     "metadata": {},
     "output_type": "execute_result"
    }
   ],
   "source": [
    "result"
   ]
  },
  {
   "cell_type": "code",
   "execution_count": 43,
   "metadata": {
    "collapsed": false
   },
   "outputs": [],
   "source": [
    "r=result"
   ]
  },
  {
   "cell_type": "code",
   "execution_count": 44,
   "metadata": {
    "collapsed": false
   },
   "outputs": [
    {
     "data": {
      "text/plain": [
       "array([[ 11.,   2.,   1., ...,   0.,   0.,   1.],\n",
       "       [  2.,  10.,   0., ...,   0.,   0.,   0.],\n",
       "       [  1.,   0.,   3., ...,   0.,   0.,   0.],\n",
       "       ..., \n",
       "       [  0.,   0.,   0., ...,   0.,   0.,   0.],\n",
       "       [  0.,   0.,   0., ...,   0.,   1.,   0.],\n",
       "       [  1.,   0.,   0., ...,   0.,   0.,   1.]])"
      ]
     },
     "execution_count": 44,
     "metadata": {},
     "output_type": "execute_result"
    }
   ],
   "source": [
    "r"
   ]
  },
  {
   "cell_type": "code",
   "execution_count": 46,
   "metadata": {
    "collapsed": false
   },
   "outputs": [],
   "source": [
    "result += r"
   ]
  },
  {
   "cell_type": "code",
   "execution_count": 47,
   "metadata": {
    "collapsed": false
   },
   "outputs": [
    {
     "data": {
      "text/plain": [
       "array([[ 22.,   4.,   2., ...,   0.,   0.,   2.],\n",
       "       [  4.,  20.,   0., ...,   0.,   0.,   0.],\n",
       "       [  2.,   0.,   6., ...,   0.,   0.,   0.],\n",
       "       ..., \n",
       "       [  0.,   0.,   0., ...,   0.,   0.,   0.],\n",
       "       [  0.,   0.,   0., ...,   0.,   2.,   0.],\n",
       "       [  2.,   0.,   0., ...,   0.,   0.,   2.]])"
      ]
     },
     "execution_count": 47,
     "metadata": {},
     "output_type": "execute_result"
    }
   ],
   "source": [
    "result"
   ]
  },
  {
   "cell_type": "code",
   "execution_count": 48,
   "metadata": {
    "collapsed": true
   },
   "outputs": [],
   "source": [
    "a=[]\n",
    "a.append(result)"
   ]
  },
  {
   "cell_type": "code",
   "execution_count": 50,
   "metadata": {
    "collapsed": false
   },
   "outputs": [
    {
     "data": {
      "text/plain": [
       "array([[ 22.,   4.,   2., ...,   0.,   0.,   2.],\n",
       "       [  4.,  20.,   0., ...,   0.,   0.,   0.],\n",
       "       [  2.,   0.,   6., ...,   0.,   0.,   0.],\n",
       "       ..., \n",
       "       [  0.,   0.,   0., ...,   0.,   0.,   0.],\n",
       "       [  0.,   0.,   0., ...,   0.,   2.,   0.],\n",
       "       [  2.,   0.,   0., ...,   0.,   0.,   2.]])"
      ]
     },
     "execution_count": 50,
     "metadata": {},
     "output_type": "execute_result"
    }
   ],
   "source": [
    "a[0]"
   ]
  },
  {
   "cell_type": "code",
   "execution_count": null,
   "metadata": {
    "collapsed": true
   },
   "outputs": [],
   "source": []
  }
 ],
 "metadata": {
  "anaconda-cloud": {},
  "kernelspec": {
   "display_name": "Python [conda root]",
   "language": "python",
   "name": "conda-root-py"
  },
  "language_info": {
   "codemirror_mode": {
    "name": "ipython",
    "version": 3
   },
   "file_extension": ".py",
   "mimetype": "text/x-python",
   "name": "python",
   "nbconvert_exporter": "python",
   "pygments_lexer": "ipython3",
   "version": "3.5.3"
  }
 },
 "nbformat": 4,
 "nbformat_minor": 2
}
