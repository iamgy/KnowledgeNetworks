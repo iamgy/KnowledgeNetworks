{
 "cells": [
  {
   "cell_type": "code",
   "execution_count": 2,
   "metadata": {
    "collapsed": true
   },
   "outputs": [],
   "source": [
    "import pandas as pd\n",
    "import numpy as np"
   ]
  },
  {
   "cell_type": "code",
   "execution_count": 21,
   "metadata": {
    "collapsed": false
   },
   "outputs": [
    {
     "name": "stdout",
     "output_type": "stream",
     "text": [
      "['france;', 'usa']\n",
      "['usa;', 'poland;']\n",
      "['switzerland;', 'netherlands;', 'netherlands']\n",
      "['india']\n",
      "[]\n",
      "['china;', 'china']\n",
      "['india']\n",
      "[]\n",
      "[]\n",
      "[]\n",
      "['germany;', 'germany']\n",
      "['usa;', 'lithuania;', 'lithuania']\n",
      "['norway;', 'norway']\n",
      "[]\n",
      "['usa;', 'usa']\n",
      "['italy;', 'italy']\n",
      "['france']\n",
      "['usa']\n",
      "['usa;', 'germany;', 'japan']\n",
      "['netherlands;', 'japan;', 'france;', 'japan']\n",
      "['japan;', 'usa;', 'italy']\n",
      "['germany;', 'usa;', 'germany']\n",
      "[]\n",
      "['taiwan']\n",
      "['germany']\n",
      "['switzerland;']\n",
      "['usa;', 'japan', 'japan;', 'usa']\n",
      "['spain']\n",
      "[]\n",
      "[]\n",
      "['japan']\n",
      "['germany']\n",
      "['japan', 'japan;']\n",
      "['germany']\n",
      "['japan;', 'japan']\n",
      "['japan', 'japan;']\n",
      "['italy;', 'germany']\n",
      "['japan']\n",
      "['japan', 'japan;', 'usa;', 'usa']\n",
      "['japan']\n",
      "['japan;', 'japan']\n",
      "['germany;', 'germany']\n",
      "['canada']\n",
      "['italy']\n",
      "['usa']\n",
      "['germany;', 'germany']\n",
      "['japan', 'japan;']\n",
      "['japan;', 'japan']\n",
      "['japan', 'japan;']\n",
      "['japan;', 'germany;', 'sweden;', 'japan']\n",
      "[ 14.  14.   3.   2.  27.   0.   1.   0.   0.   0.   2.   0.   0.   0.   0.\n",
      "   0.   1.   3.   1.   2.   1.   0.   0.   2.   0.   0.   0.   0.   0.   0.\n",
      "   0.   5.   0.   0.   0.   0.   0.   0.   0.   0.   1.   2.]\n",
      "['france;', 'usa']\n",
      "['usa;', 'poland;']\n",
      "['switzerland;', 'netherlands;', 'netherlands']\n",
      "['india']\n",
      "[]\n",
      "['china;', 'china']\n",
      "['india']\n",
      "[]\n",
      "[]\n",
      "[]\n",
      "['germany;', 'germany']\n",
      "['usa;', 'lithuania;', 'lithuania']\n",
      "['norway;', 'norway']\n",
      "[]\n",
      "['usa;', 'usa']\n",
      "['italy;', 'italy']\n",
      "['france']\n",
      "['usa']\n",
      "['usa;', 'germany;', 'japan']\n",
      "['netherlands;', 'japan;', 'france;', 'japan']\n",
      "['japan;', 'usa;', 'italy']\n",
      "['germany;', 'usa;', 'germany']\n",
      "[]\n",
      "['taiwan']\n",
      "['germany']\n",
      "['switzerland;']\n",
      "['usa;', 'japan', 'japan;', 'usa']\n",
      "['spain']\n",
      "[]\n",
      "[]\n",
      "['japan']\n",
      "['germany']\n",
      "['japan', 'japan;']\n",
      "['germany']\n",
      "['japan;', 'japan']\n",
      "['japan', 'japan;']\n",
      "['italy;', 'germany']\n",
      "['japan']\n",
      "['japan', 'japan;', 'usa;', 'usa']\n",
      "['japan']\n",
      "['japan;', 'japan']\n",
      "['germany;', 'germany']\n",
      "['canada']\n",
      "['italy']\n",
      "['usa']\n",
      "['germany;', 'germany']\n",
      "['japan', 'japan;']\n",
      "['japan;', 'japan']\n",
      "['japan', 'japan;']\n",
      "['japan;', 'germany;', 'sweden;', 'japan']\n",
      "81.0\n"
     ]
    }
   ],
   "source": [
    "#Number of countries for each text file\n",
    "#Column taken is'HO' due to extra tabs at the end of each row\n",
    "data=pd.read_table('savedrecs.txt',sep='\\t',encoding='utf-8',engine='c',usecols=['HO'],keep_default_na=False)\n",
    "#Rename column\n",
    "data.rename(columns={'HO':'Location'},inplace=True)\n",
    "#Adding index row\n",
    "data['Index'] = range(0,len(data))\n",
    "#Adding year for future use\n",
    "data['Year'] = 2000\n",
    "#Set index\n",
    "data.set_index('Index',inplace=True)\n",
    "#List of countries to be counted\n",
    "country = ['USA','Germany','France','China','Japan','Australia','Canada','Brazil','Mexico','South Africa',\n",
    "           'India','Korea','Israel','Turkey','Saudi Arabia','Iran','Spain','Netherlands','Sweden','Norway',\n",
    "           'Poland','Indonesia','Brazil','Switzerland','Denmark','Singapore','Iceland','Hong Kong','New Zealand','Belgium',\n",
    "           'Austria','Italy','Czech','Greece','Qatar','Portugal','Hungary','Argentina','Romania','England',\n",
    "           'Taiwan','Lithuania']\n",
    "#Adding count of above countries\n",
    "\n",
    "def country_count(country):\n",
    "    \"\"\"\n",
    "    \n",
    "    \"\"\"\n",
    "    count=np.zeros(len(country))\n",
    "    for i in range(0,len(data)):\n",
    "        string1 = data['Location'][i]\n",
    "        a=[]\n",
    "        for j in string1.split():\n",
    "            for k in range(len(country)):\n",
    "                if j.lower() == country[k].lower() or j.lower() == (country[k].lower()+';'):\n",
    "                    if any(i == j.lower() for i in a):\n",
    "                        pass\n",
    "                    else:\n",
    "                        count[k] = count[k] + 1\n",
    "                        a.append(j.lower())\n",
    "        print(a)\n",
    "    return count\n",
    "\n",
    "print(country_count(country))\n",
    "print(sum(country_count(country)))"
   ]
  },
  {
   "cell_type": "code",
   "execution_count": 14,
   "metadata": {
    "collapsed": false
   },
   "outputs": [
    {
     "data": {
      "text/plain": [
       "'Norwegian Radiat Protect Author, N-1332 Osteras, Norway; Univ Oslo, Inst Gen Practice & Community Med, Dept Prevent Med, N-0318 Oslo, Norway'"
      ]
     },
     "execution_count": 14,
     "metadata": {},
     "output_type": "execute_result"
    }
   ],
   "source": [
    "data['Location'][1]"
   ]
  },
  {
   "cell_type": "code",
   "execution_count": 4,
   "metadata": {
    "collapsed": false
   },
   "outputs": [],
   "source": [
    "a=country_count(country)"
   ]
  },
  {
   "cell_type": "code",
   "execution_count": 5,
   "metadata": {
    "collapsed": false
   },
   "outputs": [
    {
     "data": {
      "text/plain": [
       "42.0"
      ]
     },
     "execution_count": 5,
     "metadata": {},
     "output_type": "execute_result"
    }
   ],
   "source": [
    "a.sum()"
   ]
  },
  {
   "cell_type": "code",
   "execution_count": 6,
   "metadata": {
    "collapsed": false
   },
   "outputs": [
    {
     "data": {
      "text/plain": [
       "41"
      ]
     },
     "execution_count": 6,
     "metadata": {},
     "output_type": "execute_result"
    }
   ],
   "source": [
    "len(country)"
   ]
  },
  {
   "cell_type": "code",
   "execution_count": 10,
   "metadata": {
    "collapsed": false
   },
   "outputs": [
    {
     "data": {
      "text/plain": [
       "True"
      ]
     },
     "execution_count": 10,
     "metadata": {},
     "output_type": "execute_result"
    }
   ],
   "source": [
    "a=['a','b','c']\n",
    "any(i == 'a' for i in a)"
   ]
  },
  {
   "cell_type": "code",
   "execution_count": 15,
   "metadata": {
    "collapsed": false
   },
   "outputs": [
    {
     "name": "stdout",
     "output_type": "stream",
     "text": [
      "0\n"
     ]
    }
   ],
   "source": [
    "for i in range(1):\n",
    "    print(i)"
   ]
  },
  {
   "cell_type": "code",
   "execution_count": null,
   "metadata": {
    "collapsed": true
   },
   "outputs": [],
   "source": []
  }
 ],
 "metadata": {
  "anaconda-cloud": {},
  "kernelspec": {
   "display_name": "Python [conda root]",
   "language": "python",
   "name": "conda-root-py"
  },
  "language_info": {
   "codemirror_mode": {
    "name": "ipython",
    "version": 3
   },
   "file_extension": ".py",
   "mimetype": "text/x-python",
   "name": "python",
   "nbconvert_exporter": "python",
   "pygments_lexer": "ipython3",
   "version": "3.5.3"
  }
 },
 "nbformat": 4,
 "nbformat_minor": 2
}
