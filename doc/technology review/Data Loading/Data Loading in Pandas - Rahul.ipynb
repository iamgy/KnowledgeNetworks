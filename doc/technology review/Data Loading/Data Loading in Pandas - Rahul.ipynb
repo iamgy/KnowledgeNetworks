{
 "cells": [
  {
   "cell_type": "code",
   "execution_count": 84,
   "metadata": {
    "collapsed": true
   },
   "outputs": [],
   "source": [
    "import pandas as pd\n",
    "import numpy as np"
   ]
  },
  {
   "cell_type": "code",
   "execution_count": 88,
   "metadata": {
    "collapsed": false
   },
   "outputs": [],
   "source": [
    "data=pd.read_table('savedrecs.txt',sep='\\t',encoding='utf-8',engine='c',usecols=['HO'],keep_default_na=False)\n",
    "data.rename(columns={'HO':'Location'},inplace=True)\n",
    "data['Index'] = range(0,len(data))\n",
    "data['Year'] = 2000\n",
    "data.set_index('Index',inplace=True)\n",
    "country = ['Russia','USA','France','Japan','China','India','Germany','France','Korea','Taiwan']\n",
    "count=np.zeros(len(country))\n",
    "for i in range(0,len(data)):\n",
    "    string1 = data['Location'][i]\n",
    "    duplicate = 0\n",
    "    for j in string1.split():\n",
    "        for k in range(len(country)):\n",
    "            if j == country[k] or j == (country[k]+';'):\n",
    "                if duplicate == 0:\n",
    "                    count[k] = count[k] + 1\n",
    "                    duplicate = 1"
   ]
  },
  {
   "cell_type": "code",
   "execution_count": 89,
   "metadata": {
    "collapsed": false
   },
   "outputs": [
    {
     "data": {
      "text/plain": [
       "array([  7.,   6.,   2.,  14.,   1.,   2.,   8.,   0.,   0.,   1.])"
      ]
     },
     "execution_count": 89,
     "metadata": {},
     "output_type": "execute_result"
    }
   ],
   "source": [
    "count"
   ]
  }
 ],
 "metadata": {
  "anaconda-cloud": {},
  "kernelspec": {
   "display_name": "Python [conda root]",
   "language": "python",
   "name": "conda-root-py"
  },
  "language_info": {
   "codemirror_mode": {
    "name": "ipython",
    "version": 3
   },
   "file_extension": ".py",
   "mimetype": "text/x-python",
   "name": "python",
   "nbconvert_exporter": "python",
   "pygments_lexer": "ipython3",
   "version": "3.5.3"
  }
 },
 "nbformat": 4,
 "nbformat_minor": 2
}
