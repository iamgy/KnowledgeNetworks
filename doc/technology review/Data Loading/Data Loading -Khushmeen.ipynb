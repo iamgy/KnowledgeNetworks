{
 "cells": [
  {
   "cell_type": "code",
   "execution_count": 391,
   "metadata": {
    "collapsed": true,
    "deletable": true,
    "editable": true
   },
   "outputs": [],
   "source": [
    "import pandas as pd\n",
    "import numpy as np"
   ]
  },
  {
   "cell_type": "code",
   "execution_count": 392,
   "metadata": {
    "collapsed": false,
    "deletable": true,
    "editable": true
   },
   "outputs": [],
   "source": [
    "data=pd.read_csv('savedrecs.txt',sep='\\t',engine='python',index_col=False)"
   ]
  },
  {
   "cell_type": "code",
   "execution_count": 393,
   "metadata": {
    "collapsed": true
   },
   "outputs": [],
   "source": [
    "def getUniqueWords(allWords) :\n",
    "    uniqueWords = [] \n",
    "    for j in allWords:\n",
    "        if j in uniqueWords:\n",
    "            pass\n",
    "        else:\n",
    "            uniqueWords.append(j)\n",
    "    return uniqueWords"
   ]
  },
  {
   "cell_type": "code",
   "execution_count": 395,
   "metadata": {
    "collapsed": false,
    "deletable": true,
    "editable": true
   },
   "outputs": [
    {
     "name": "stdout",
     "output_type": "stream",
     "text": [
      "['France;', 'USA', 'USA']\n",
      "['Russia;', 'USA;', 'Russia']\n",
      "[]\n",
      "['India']\n",
      "['Russia']\n",
      "['China;', 'China']\n",
      "['India']\n",
      "['Russia;', 'Russia']\n",
      "['Russia;', 'Russia']\n",
      "['Germany;', 'Germany']\n",
      "['USA;']\n",
      "[]\n",
      "[]\n",
      "['USA;', 'USA', 'USA']\n",
      "[]\n",
      "['France']\n",
      "['USA', 'USA']\n",
      "['USA;', 'Germany;', 'Japan', 'Japan']\n",
      "['Japan;', 'France;', 'Japan']\n",
      "['Japan;', 'USA;']\n",
      "['Germany;', 'USA;', 'Germany']\n",
      "[]\n",
      "['Taiwan']\n",
      "['Germany']\n",
      "['Russia']\n",
      "['USA;', 'Japan', 'Japan;', 'USA', 'USA']\n",
      "[]\n",
      "['Russia;', 'Russia', 'Russia']\n",
      "['Russia']\n",
      "['Japan']\n",
      "['Germany']\n",
      "['Japan', 'Japan;', 'Japan', 'Japan']\n",
      "['Germany']\n",
      "['Japan;', 'Japan', 'Japan']\n",
      "['Japan', 'Japan;', 'Japan', 'Japan', 'Japan', 'Japan']\n",
      "['Germany']\n",
      "['Japan']\n",
      "['Japan', 'Japan;', 'USA;', 'USA', 'USA']\n",
      "['Japan', 'Japan']\n",
      "['Japan;', 'Japan']\n",
      "['Germany;', 'Germany']\n",
      "[]\n",
      "[]\n",
      "['USA', 'USA']\n",
      "['Germany;', 'Russia;', 'Germany']\n",
      "['Japan', 'Japan;', 'Japan']\n",
      "['Japan;', 'Japan']\n",
      "['Japan', 'Japan;', 'Japan', 'Japan']\n",
      "['Japan;', 'Germany;', 'Sweden;', 'Japan']\n"
     ]
    }
   ],
   "source": [
    "df= data[data['C1'].notnull()]\n",
    "df_new=df['C1']\n",
    "#print(df_new)\n",
    "\n",
    "for i in df_new.index:\n",
    "    p=df_new[i].split()\n",
    "    #print(getUniqueWords(p))\n",
    "    count=[]\n",
    "    countries=['France','USA','India','USA','Russia','Japan','Germany','Pakistan','Iran','Sweden','Australia','Taiwan','China']\n",
    "    #print(countries)\n",
    "    for i in p:\n",
    "        for j in countries:\n",
    "            if (i==j or i==j+';'and i not in count):\n",
    "                count.append(i)\n",
    "    print(count)\n",
    "\n",
    "    \n"
   ]
  },
  {
   "cell_type": "code",
   "execution_count": 396,
   "metadata": {
    "collapsed": false,
    "deletable": true,
    "editable": true
   },
   "outputs": [],
   "source": [
    "def getUniqueWords(allWords) :\n",
    "    uniqueWords = [] \n",
    "    for j in allWords:\n",
    "        if j in uniqueWords:\n",
    "            pass\n",
    "        else:\n",
    "            uniqueWords.append(j)\n",
    "    return uniqueWords"
   ]
  },
  {
   "cell_type": "code",
   "execution_count": 359,
   "metadata": {
    "collapsed": false,
    "deletable": true,
    "editable": true
   },
   "outputs": [
    {
     "name": "stdout",
     "output_type": "stream",
     "text": [
      "France\n",
      "USA\n",
      "Japan\n",
      "Sweden\n"
     ]
    }
   ],
   "source": [
    "countries=['France','USA','Japan','Sweden']\n",
    "for j in countries:\n",
    "    #j=j+';'\n",
    "    print(j)"
   ]
  },
  {
   "cell_type": "code",
   "execution_count": 414,
   "metadata": {
    "collapsed": false,
    "deletable": true,
    "editable": true
   },
   "outputs": [
    {
     "name": "stdout",
     "output_type": "stream",
     "text": [
      "['Japan;', 'Germany;', 'Sweden;', 'Japan']\n"
     ]
    }
   ],
   "source": [
    "count=[]\n",
    "#print(countries)\n",
    "for i in p:\n",
    "    if i not in count:\n",
    "        for j in countries:\n",
    "             if (i==j or i==j+';'):\n",
    "                count.append(i)\n",
    "print(count)\n",
    "\n",
    "        "
   ]
  },
  {
   "cell_type": "code",
   "execution_count": null,
   "metadata": {
    "collapsed": true,
    "deletable": true,
    "editable": true
   },
   "outputs": [],
   "source": []
  },
  {
   "cell_type": "code",
   "execution_count": null,
   "metadata": {
    "collapsed": true,
    "deletable": true,
    "editable": true
   },
   "outputs": [],
   "source": []
  }
 ],
 "metadata": {
  "kernelspec": {
   "display_name": "Python 3",
   "language": "python",
   "name": "python3"
  },
  "language_info": {
   "codemirror_mode": {
    "name": "ipython",
    "version": 3
   },
   "file_extension": ".py",
   "mimetype": "text/x-python",
   "name": "python",
   "nbconvert_exporter": "python",
   "pygments_lexer": "ipython3",
   "version": "3.6.0"
  }
 },
 "nbformat": 4,
 "nbformat_minor": 2
}
