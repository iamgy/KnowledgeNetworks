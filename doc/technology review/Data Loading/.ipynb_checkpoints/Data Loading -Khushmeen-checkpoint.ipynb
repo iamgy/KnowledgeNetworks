{
 "cells": [
  {
   "cell_type": "code",
   "execution_count": 94,
   "metadata": {
    "collapsed": true,
    "deletable": true,
    "editable": true
   },
   "outputs": [],
   "source": [
    "import pandas as pd\n",
    "import numpy as np\n",
    "import itertools"
   ]
  },
  {
   "cell_type": "code",
   "execution_count": 95,
   "metadata": {
    "collapsed": false,
    "deletable": true,
    "editable": true
   },
   "outputs": [],
   "source": [
    "data=pd.read_csv('savedrecs.txt',sep='\\t',engine='python',index_col=False)"
   ]
  },
  {
   "cell_type": "code",
   "execution_count": 96,
   "metadata": {
    "collapsed": true,
    "deletable": true,
    "editable": true
   },
   "outputs": [],
   "source": [
    "def getUniqueWords(allWords) :\n",
    "    uniqueWords = [] \n",
    "    for j in allWords:\n",
    "        if j in uniqueWords:\n",
    "            pass\n",
    "        else:\n",
    "            uniqueWords.append(j)\n",
    "    return uniqueWords"
   ]
  },
  {
   "cell_type": "code",
   "execution_count": 97,
   "metadata": {
    "collapsed": false
   },
   "outputs": [
    {
     "data": {
      "text/plain": [
       "[\"Afghanistan\\nAlbania\\nAlgeria\\nAmerican Samoa\\nAndorra\\nAngola\\nAnguilla\\nAntarctica\\nAntigua and Barbuda\\nArgentina\\nArmenia\\nAruba\\nAustralia\\nAustria\\nAzerbaijan\\nBahamas\\nBahrain\\nBangladesh\\nBarbados\\nBelarus\\nBelgium\\nBelize\\nBenin\\nBermuda\\nBhutan\\nBolivia\\nBosnia and Herzegovina\\nBotswana\\nBouvet Island\\nBrazil\\nBritish Antarctic Territory\\nBritish Indian Ocean Territory\\nBritish Virgin Islands\\nBrunei\\nBulgaria\\nBurkina Faso\\nBurundi\\nCambodia\\nCameroon\\nCanada\\nCanton and Enderbury Islands\\nCape Verde\\nCayman Islands\\nCentral African Republic\\nChad\\nChile\\nChina\\nChristmas Island\\nCocos [Keeling] Islands\\nColombia\\nComoros\\nCongo - Brazzaville\\nCongo - Kinshasa\\nCook Islands\\nCosta Rica\\nCroatia\\nCuba\\nCyprus\\nCzech Republic\\nCÃ´te dâ€™Ivoire\\nDenmark\\nDjibouti\\nDominica\\nDominican Republic\\nDronning Maud Land\\nEast Germany\\nEcuador\\nEgypt\\nEl Salvador\\nEquatorial Guinea\\nEritrea\\nEstonia\\nEthiopia\\nFalkland Islands\\nFaroe Islands\\nFiji\\nFinland\\nFrance\\nFrench Guiana\\nFrench Polynesia\\nFrench Southern Territories\\nFrench Southern and Antarctic Territories\\nGabon\\nGambia\\nGeorgia\\nGermany\\nGhana\\nGibraltar\\nGreece\\nGreenland\\nGrenada\\nGuadeloupe\\nGuam\\nGuatemala\\nGuernsey\\nGuinea\\nGuinea-Bissau\\nGuyana\\nHaiti\\nHeard Island and McDonald Islands\\nHonduras\\nHong Kong SAR China\\nHungary\\nIceland\\nIndia\\nIndonesia\\nIran\\nIraq\\nIreland\\nIsle of Man\\nIsrael\\nItaly\\nJamaica\\nJapan\\nJersey\\nJohnston Island\\nJordan\\nKazakhstan\\nKenya\\nKiribati\\nKuwait\\nKyrgyzstan\\nLaos\\nLatvia\\nLebanon\\nLesotho\\nLiberia\\nLibya\\nLiechtenstein\\nLithuania\\nLuxembourg\\nMacau SAR China\\nMacedonia\\nMadagascar\\nMalawi\\nMalaysia\\nMaldives\\nMali\\nMalta\\nMarshall Islands\\nMartinique\\nMauritania\\nMauritius\\nMayotte\\nMetropolitan France\\nMexico\\nMicronesia\\nMidway Islands\\nMoldova\\nMonaco\\nMongolia\\nMontenegro\\nMontserrat\\nMorocco\\nMozambique\\nMyanmar [Burma]\\nNamibia\\nNauru\\nNepal\\nNetherlands\\nNetherlands Antilles\\nNeutral Zone\\nNew Caledonia\\nNew Zealand\\nNicaragua\\nNiger\\nNigeria\\nNiue\\nNorfolk Island\\nNorth Korea\\nNorth Vietnam\\nNorthern Mariana Islands\\nNorway\\nOman\\nPacific Islands Trust Territory\\nPakistan\\nPalau\\nPalestinian Territories\\nPanama\\nPanama Canal Zone\\nPapua New Guinea\\nParaguay\\nPeople's Democratic Republic of Yemen\\nPeru\\nPhilippines\\nPitcairn Islands\\nPoland\\nPortugal\\nPuerto Rico\\nQatar\\nRomania\\nRussia\\nRwanda\\nRÃ©union\\nSaint BarthÃ©lemy\\nSaint Helena\\nSaint Kitts and Nevis\\nSaint Lucia\\nSaint Martin\\nSaint Pierre and Miquelon\\nSaint Vincent and the Grenadines\\nSamoa\\nSan Marino\\nSaudi Arabia\\nSenegal\\nSerbia\\nSerbia and Montenegro\\nSeychelles\\nSierra Leone\\nSingapore\\nSlovakia\\nSlovenia\\nSolomon Islands\\nSomalia\\nSouth Africa\\nSouth Georgia and the South Sandwich Islands\\nSouth Korea\\nSpain\\nSri Lanka\\nSudan\\nSuriname\\nSvalbard and Jan Mayen\\nSwaziland\\nSweden\\nSwitzerland\\nSyria\\nSÃ£o TomÃ© and PrÃ\\xadncipe\\nTaiwan\\nTajikistan\\nTanzania\\nThailand\\nTimor-Leste\\nTogo\\nTokelau\\nTonga\\nTrinidad and Tobago\\nTunisia\\nTurkey\\nTurkmenistan\\nTurks and Caicos Islands\\nTuvalu\\nU.S. Minor Outlying Islands\\nU.S. Miscellaneous Pacific Islands\\nU.S. Virgin Islands\\nUganda\\nUkraine\\nUnion of Soviet Socialist Republics\\nUnited Arab Emirates\\nUnited Kingdom\\nUnited States\\nUnknown or Invalid Region\\nUruguay\\nUzbekistan\\nVanuatu\\nVatican City\\nVenezuela\\nVietnam\\nWake Island\\nWallis and Futuna\\nWestern Sahara\\nYemen\\nZambia\\nZimbabwe\\nÃ…land Islands\"]"
      ]
     },
     "execution_count": 97,
     "metadata": {},
     "output_type": "execute_result"
    }
   ],
   "source": [
    "text_file = open(\"country_list.txt\")\n",
    "lines = text_file.read().split(',')\n",
    "lines"
   ]
  },
  {
   "cell_type": "code",
   "execution_count": 98,
   "metadata": {
    "collapsed": false,
    "deletable": true,
    "editable": true
   },
   "outputs": [
    {
     "name": "stdout",
     "output_type": "stream",
     "text": [
      "Kazakh State Univ, Res Inst Expt & Theoret Phys, Almaty 480012, Kazakhstan\n",
      "['USA', 'France']\n",
      "['Russia', 'Poland', 'USA']\n",
      "['Switzerland', 'Netherlands']\n",
      "['India']\n",
      "['Russia']\n",
      "['China']\n",
      "['India']\n",
      "['Russia']\n",
      "['Russia']\n",
      "['Germany']\n",
      "['Lithuania', 'USA']\n",
      "['Norway']\n",
      "['Finland']\n",
      "['USA']\n",
      "['Italy']\n",
      "['France']\n",
      "['USA']\n",
      "['Germany', 'Japan', 'Kazakhstan', 'USA']\n",
      "['Japan', 'Netherlands', 'France']\n",
      "['Japan', 'USA', 'Italy']\n",
      "['Germany', 'USA']\n",
      "['Kazakhstan']\n",
      "['Taiwan']\n",
      "['Germany']\n",
      "['Switzerland', 'Russia']\n",
      "['Japan', 'USA']\n",
      "['Spain']\n",
      "['Russia']\n",
      "['Russia']\n",
      "['Japan']\n",
      "['Germany']\n",
      "['Japan']\n",
      "['Germany']\n",
      "['Japan']\n",
      "['Japan']\n",
      "['Germany', 'Italy']\n",
      "['Japan']\n",
      "['Japan', 'USA']\n",
      "['Japan']\n",
      "['Japan']\n",
      "['Germany']\n",
      "['Canada']\n",
      "['Italy']\n",
      "['USA']\n",
      "['Germany', 'Russia']\n",
      "['Japan']\n",
      "['Japan']\n",
      "['Japan']\n",
      "['Germany', 'Japan', 'Sweden']\n"
     ]
    }
   ],
   "source": [
    "df= data[data['C1'].notnull()]\n",
    "df_new=df['C1']\n",
    "print(df_new[22])\n",
    "\n",
    "for i in df_new.index:\n",
    "    p=df_new[i].split()\n",
    "    #print(p)\n",
    "    #print(getUniqueWords(p))\n",
    "    countries=['USA','Germany','France','China','Japan','Australia','Canada','Brazil','Mexico','South Africa',\n",
    "           'India','Korea','Israel','Turkey','Saudi Arabia','Iran','Spain','Netherlands','Sweden','Norway',\n",
    "           'Poland','Indonesia','Brazil','Switzerland','Denmark','Singapore','Iceland','Hong Kong','New Zealand','Belgium',\n",
    "           'Austria','Italy','Czech','Greece','Qatar','Portugal','Hungary','Argentina','Romania','England',\n",
    "           'Taiwan','Lithuania','Finland','Russia','Kazakhstan']\n",
    "    #print(countries)\n",
    "    count=[]\n",
    "#print(countries)\n",
    "    for i in p:\n",
    "        if i not in count:\n",
    "            for j in countries:\n",
    "                if (i==j or i==j+';'):\n",
    "                    count.append(i)\n",
    "    #print(count)\n",
    "    country_list=[]\n",
    "    for i in count:\n",
    "        for j in countries:\n",
    "            if (i==j or i==j+';'):\n",
    "                country_list.append(j)\n",
    "    print(list(set(country_list)))\n",
    "        \n",
    "\n",
    "\n",
    "    \n"
   ]
  },
  {
   "cell_type": "code",
   "execution_count": 99,
   "metadata": {
    "collapsed": false,
    "deletable": true,
    "editable": true
   },
   "outputs": [
    {
     "name": "stdout",
     "output_type": "stream",
     "text": [
      "['Germany', 'Japan', 'Sweden']\n"
     ]
    }
   ],
   "source": [
    "count=[]\n",
    "countries=['France','USA','Japan','Sweden','Germany']\n",
    "#print(countries)\n",
    "for i in p:\n",
    "    if i not in count:\n",
    "        for j in countries:\n",
    "            if (i==j or i==j+';'):\n",
    "                count.append(i)\n",
    "country_list=[]\n",
    "for i in count:\n",
    "    for j in countries:\n",
    "        if (i==j or i==j+';'):\n",
    "            country_list.append(j)\n",
    "print(list(set(country_list)))\n",
    "        \n",
    "\n",
    "\n",
    "\n",
    "\n",
    "    \n",
    "\n",
    "\n",
    "        "
   ]
  },
  {
   "cell_type": "code",
   "execution_count": 100,
   "metadata": {
    "collapsed": false
   },
   "outputs": [
    {
     "name": "stdout",
     "output_type": "stream",
     "text": [
      "['Germany', 'Japan', 'Sweden']\n"
     ]
    }
   ],
   "source": [
    "country_list=[]\n",
    "for i in count:\n",
    "    for j in countries:\n",
    "        if (i==j or i==j+';'):\n",
    "            country_list.append(j)\n",
    "print(list(set(country_list)))\n",
    "        "
   ]
  },
  {
   "cell_type": "code",
   "execution_count": null,
   "metadata": {
    "collapsed": true,
    "deletable": true,
    "editable": true
   },
   "outputs": [],
   "source": []
  },
  {
   "cell_type": "code",
   "execution_count": null,
   "metadata": {
    "collapsed": true,
    "deletable": true,
    "editable": true
   },
   "outputs": [],
   "source": []
  }
 ],
 "metadata": {
  "kernelspec": {
   "display_name": "Python 3",
   "language": "python",
   "name": "python3"
  },
  "language_info": {
   "codemirror_mode": {
    "name": "ipython",
    "version": 3
   },
   "file_extension": ".py",
   "mimetype": "text/x-python",
   "name": "python",
   "nbconvert_exporter": "python",
   "pygments_lexer": "ipython3",
   "version": "3.6.0"
  }
 },
 "nbformat": 4,
 "nbformat_minor": 2
}
