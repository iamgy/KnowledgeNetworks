{
 "cells": [
  {
   "cell_type": "code",
   "execution_count": 1,
   "metadata": {
    "collapsed": true
   },
   "outputs": [],
   "source": [
    "import pandas as pd\n",
    "import numpy as np"
   ]
  },
  {
   "cell_type": "code",
   "execution_count": 13,
   "metadata": {
    "collapsed": false
   },
   "outputs": [
    {
     "name": "stdout",
     "output_type": "stream",
     "text": [
      "[  4.  14.]\n",
      "[ 14.  15.   5.   4.  47.   0.   1.   0.   0.   0.   2.   0.   0.   0.   0.\n",
      "   0.   1.   3.   1.   2.   2.   0.   0.   2.   0.   0.   0.   0.   0.   0.\n",
      "   0.   7.   0.   0.   0.   0.   0.   0.   0.   0.   1.]\n",
      "107.0\n"
     ]
    }
   ],
   "source": [
    "#Number of countries for each text file\n",
    "#Column taken is'HO' due to extra tabs at the end of each row\n",
    "data=pd.read_table('savedrecs.txt',sep='\\t',encoding='utf-8',engine='c',usecols=['HO'],keep_default_na=False)\n",
    "#Rename column\n",
    "data.rename(columns={'HO':'Location'},inplace=True)\n",
    "#Adding index row\n",
    "data['Index'] = range(0,len(data))\n",
    "#Adding year for future use\n",
    "data['Year'] = 2000\n",
    "#Set index\n",
    "data.set_index('Index',inplace=True)\n",
    "#List of countries to be counted\n",
    "country = ['USA','Germany','France','China','Japan','Australia','Canada','Brazil','Mexico','South Africa',\n",
    "           'India','Korea','Israel','Turkey','Saudi Arabia','Iran','Spain','Netherlands','Sweden','Norway',\n",
    "           'Poland','Indonesia','Brazil','Switzerland','Denmark','Singapore','Iceland','Hong Kong','New Zealand','Belgium',\n",
    "           'Austria','Italy','Czech','Greece','Qatar','Portugal','Hungary','Argentina','Romania','England',\n",
    "           'Taiwan']\n",
    "#Adding count of above countries\n",
    "\n",
    "def country_count(country):\n",
    "    \"\"\"\n",
    "    \n",
    "    \"\"\"\n",
    "    count=np.zeros(len(country))\n",
    "    for i in range(0,len(data)):\n",
    "        string1 = data['Location'][i]\n",
    "        for j in string1.split():\n",
    "            duplicate = 0\n",
    "            for k in range(len(country)):\n",
    "                if j.lower() == country[k].lower() or j.lower() == (country[k].lower()+';'):\n",
    "                    if duplicate == 0:\n",
    "                        count[k] = count[k] + 1\n",
    "                        duplicate = 1\n",
    "    return count\n",
    "\n",
    "print(country_count(['Lithuania','USA']))\n",
    "print(country_count(country))\n",
    "print(sum(country_count(country)))"
   ]
  },
  {
   "cell_type": "code",
   "execution_count": 14,
   "metadata": {
    "collapsed": false
   },
   "outputs": [
    {
     "data": {
      "text/plain": [
       "'Norwegian Radiat Protect Author, N-1332 Osteras, Norway; Univ Oslo, Inst Gen Practice & Community Med, Dept Prevent Med, N-0318 Oslo, Norway'"
      ]
     },
     "execution_count": 14,
     "metadata": {},
     "output_type": "execute_result"
    }
   ],
   "source": [
    "data['Location'][1]"
   ]
  },
  {
   "cell_type": "code",
   "execution_count": 4,
   "metadata": {
    "collapsed": false
   },
   "outputs": [],
   "source": [
    "a=country_count(country)"
   ]
  },
  {
   "cell_type": "code",
   "execution_count": 5,
   "metadata": {
    "collapsed": false
   },
   "outputs": [
    {
     "data": {
      "text/plain": [
       "42.0"
      ]
     },
     "execution_count": 5,
     "metadata": {},
     "output_type": "execute_result"
    }
   ],
   "source": [
    "a.sum()"
   ]
  },
  {
   "cell_type": "code",
   "execution_count": 6,
   "metadata": {
    "collapsed": false
   },
   "outputs": [
    {
     "data": {
      "text/plain": [
       "41"
      ]
     },
     "execution_count": 6,
     "metadata": {},
     "output_type": "execute_result"
    }
   ],
   "source": [
    "len(country)"
   ]
  },
  {
   "cell_type": "code",
   "execution_count": null,
   "metadata": {
    "collapsed": true
   },
   "outputs": [],
   "source": []
  }
 ],
 "metadata": {
  "anaconda-cloud": {},
  "kernelspec": {
   "display_name": "Python [conda root]",
   "language": "python",
   "name": "conda-root-py"
  },
  "language_info": {
   "codemirror_mode": {
    "name": "ipython",
    "version": 3
   },
   "file_extension": ".py",
   "mimetype": "text/x-python",
   "name": "python",
   "nbconvert_exporter": "python",
   "pygments_lexer": "ipython3",
   "version": "3.5.3"
  }
 },
 "nbformat": 4,
 "nbformat_minor": 2
}
