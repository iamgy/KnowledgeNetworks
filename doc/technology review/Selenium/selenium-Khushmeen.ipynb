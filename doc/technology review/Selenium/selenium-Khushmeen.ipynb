{
 "cells": [
  {
   "cell_type": "code",
   "execution_count": 164,
   "metadata": {
    "collapsed": true,
    "deletable": true,
    "editable": true
   },
   "outputs": [],
   "source": [
    "import selenium\n",
    "from selenium import webdriver\n",
    "from selenium.webdriver.common.keys import Keys\n",
    "from selenium.webdriver.support.ui import Select\n",
    "from selenium.webdriver.support.ui import WebDriverWait\n",
    "from selenium.webdriver.support import expected_conditions as EC\n",
    "from selenium.webdriver.common.by import By"
   ]
  },
  {
   "cell_type": "code",
   "execution_count": 165,
   "metadata": {
    "collapsed": false,
    "deletable": true,
    "editable": true
   },
   "outputs": [],
   "source": [
    "def download(netid,password,keywords):\n",
    "    driver = webdriver.Chrome()\n",
    "    driver.get(\"https://www-engineeringvillage-com.offcampus.lib.washington.edu/search/quick.url?CID=quickSearch&database=compendex\")\n",
    "    username = driver.find_element_by_id(\"weblogin_netid\")     #when to use ID , when to use name?\n",
    "    password1 = driver.find_element_by_id(\"weblogin_password\")\n",
    "    username.send_keys(netid)\n",
    "    password1.send_keys(password)\n",
    "    submit=driver.find_element_by_name(\"submit\").click()\n",
    "    driver.find_element_by_id(\"srchWrd1\").send_keys(keywords[0])\n",
    "    driver.find_element_by_id(\"addsearchllink\").click()\n",
    "    dropdown1=driver.find_element_by_id(\"cbnt1\")\n",
    "    Select(dropdown1).select_by_visible_text(\"OR\")\n",
    "    driver.find_element_by_id(\"srchWrd2\").send_keys(keywords[1])\n",
    "    driver.find_element_by_id(\"addsearchllink\").click()\n",
    "    dropdown2=driver.find_element_by_id(\"cbnt2\")\n",
    "    Select(dropdown2).select_by_visible_text(\"OR\")\n",
    "    driver.find_element_by_id(\"srchWrd3\").send_keys(keywords[2])\n",
    "    dropdown3=driver.find_element_by_id(\"connector\")\n",
    "    Select(dropdown3).select_by_visible_text(\"OR\")\n",
    "    driver.find_element_by_name(\"searchWords\").send_keys(keywords[3])\n",
    "    driver.find_element_by_id(\"submitsearch_tool\").click()\n",
    "    WebDriverWait(driver,5).until(EC.presence_of_element_located((By.ID, \"pageSizeVal_top\")))\n",
    "    dropdown4=driver.find_element_by_id('pageSizeVal_top')\n",
    "    Select(dropdown4).select_by_visible_text(\"100\")    \n",
    "    return"
   ]
  },
  {
   "cell_type": "code",
   "execution_count": 166,
   "metadata": {
    "collapsed": false,
    "deletable": true,
    "editable": true
   },
   "outputs": [],
   "source": [
    "words=['uranium','thorium','plutonium','atomic']\n",
    "download('','',words)"
   ]
  },
  {
   "cell_type": "code",
   "execution_count": 94,
   "metadata": {
    "collapsed": false,
    "deletable": true,
    "editable": true
   },
   "outputs": [],
   "source": [
    "driver = webdriver.Chrome()\n",
    "driver.get(\"https://www-engineeringvillage-com.offcampus.lib.washington.edu/search/quick.url?CID=quickSearch&database=compendex\")"
   ]
  },
  {
   "cell_type": "code",
   "execution_count": 95,
   "metadata": {
    "collapsed": false,
    "deletable": true,
    "editable": true
   },
   "outputs": [],
   "source": [
    "username = driver.find_element_by_id(\"weblogin_netid\")     #when to use ID , when to use name?\n",
    "password = driver.find_element_by_id(\"weblogin_password\")\n",
    "username.send_keys(\"netid\")\n",
    "password.send_keys(\"password\")\n",
    "submit=driver.find_element_by_name(\"submit\").click()"
   ]
  },
  {
   "cell_type": "code",
   "execution_count": 96,
   "metadata": {
    "collapsed": false,
    "deletable": true,
    "editable": true
   },
   "outputs": [],
   "source": [
    "driver.find_element_by_id(\"srchWrd1\").send_keys(\"uranium\")\n",
    "dropdown1=driver.find_element_by_id(\"cbnt1\")\n",
    "Select(dropdown1).select_by_visible_text(\"OR\")"
   ]
  },
  {
   "cell_type": "code",
   "execution_count": 97,
   "metadata": {
    "collapsed": false,
    "deletable": true,
    "editable": true
   },
   "outputs": [],
   "source": [
    "driver.find_element_by_id(\"srchWrd2\").send_keys(\"thorium\")\n",
    "dropdown1=driver.find_element_by_id(\"cbnt2\")\n",
    "Select(dropdown1).select_by_visible_text(\"OR\")"
   ]
  },
  {
   "cell_type": "code",
   "execution_count": 101,
   "metadata": {
    "collapsed": true,
    "deletable": true,
    "editable": true
   },
   "outputs": [],
   "source": [
    "driver.find_element_by_id(\"submitsearch_tool\").click()     "
   ]
  },
  {
   "cell_type": "code",
   "execution_count": null,
   "metadata": {
    "collapsed": true,
    "deletable": true,
    "editable": true
   },
   "outputs": [],
   "source": []
  }
 ],
 "metadata": {
  "kernelspec": {
   "display_name": "Python 3",
   "language": "python",
   "name": "python3"
  },
  "language_info": {
   "codemirror_mode": {
    "name": "ipython",
    "version": 3
   },
   "file_extension": ".py",
   "mimetype": "text/x-python",
   "name": "python",
   "nbconvert_exporter": "python",
   "pygments_lexer": "ipython3",
   "version": "3.6.0"
  }
 },
 "nbformat": 4,
 "nbformat_minor": 2
}
