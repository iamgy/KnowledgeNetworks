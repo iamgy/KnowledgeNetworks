{
 "cells": [
  {
   "cell_type": "markdown",
   "metadata": {},
   "source": [
    "# Scripts for automating data collection from Web of Science"
   ]
  },
  {
   "cell_type": "code",
   "execution_count": null,
   "metadata": {
    "collapsed": true
   },
   "outputs": [],
   "source": [
    "import selenium\n",
    "from selenium import webdriver\n",
    "from selenium.webdriver.common.keys import Keys\n",
    "from selenium.webdriver.support.ui import Select\n",
    "from selenium.webdriver.support.ui import WebDriverWait\n",
    "from selenium.webdriver.support import expected_conditions as EC\n",
    "from selenium.webdriver.common.by import By"
   ]
  },
  {
   "cell_type": "markdown",
   "metadata": {},
   "source": [
    "### Description"
   ]
  },
  {
   "cell_type": "markdown",
   "metadata": {},
   "source": [
    "The scripts are divided into 5 functions:\n",
    "\n",
    "1. **wos_login:** This function is called only once to login into WOS using a registered user email address and password\n",
    "2. **keyword_search:** This function is used to add all given keywords to the search bar\n",
    "3. **select_year:** This script is written in such a way that only results from 1 year can be downloaded. This function adds the given year to the search bar and gets the results\n",
    "4. **download_page:** This script downloads the metadata of the papers of a specified page in the results. The data is downloaded in the specified format\n",
    "5. **webofscience:** This is a wrapping function for the script and calls all the above functions sequentially and downloads the results. We need to specify your email address and password to login to WOS (both strings), the keywords you want to search (list of strings), the year you are interested in (integer), the pages you want to download (list of integers),file_format (string)"
   ]
  },
  {
   "cell_type": "markdown",
   "metadata": {},
   "source": [
    "### How to use?"
   ]
  },
  {
   "cell_type": "markdown",
   "metadata": {},
   "source": [
    "1. Install **Selenium** if not done so already\n",
    "2. Run the cells containing the above functions\n",
    "3. In the last cell of this notebook, modify the *username, password, keywords, year, pages* and *file_format* variables for your search. Run the cell to download results"
   ]
  },
  {
   "cell_type": "markdown",
   "metadata": {},
   "source": [
    "### Scripts"
   ]
  },
  {
   "cell_type": "code",
   "execution_count": null,
   "metadata": {
    "collapsed": true
   },
   "outputs": [],
   "source": [
    "def wos_login(driver,username,password):\n",
    "    \"\"\"\n",
    "    Function to login into WOS\n",
    "    \"\"\"\n",
    "    #Input Username\n",
    "    username_textbox = driver.find_element_by_name('username')\n",
    "    username_textbox.send_keys(username)\n",
    "    #Input Password\n",
    "    password_textbox = driver.find_element_by_name('password')\n",
    "    password_textbox.send_keys(password)\n",
    "    #Click on Sign In\n",
    "    submit_button = driver.find_element_by_name('image').click()\n",
    "    return"
   ]
  },
  {
   "cell_type": "code",
   "execution_count": null,
   "metadata": {
    "collapsed": true
   },
   "outputs": [],
   "source": [
    "def keyword_search(driver,keywords):\n",
    "    \"\"\"\n",
    "    Function to input given keywords to search bar  //*[@id=\"select2-value(bool_1_2)-result-mnjh-OR\"]\n",
    "    \"\"\"\n",
    "    a = 14;\n",
    "    for i in range(len(keywords)):\n",
    "        #Input keyword\n",
    "        WebDriverWait(driver,5).until(EC.presence_of_element_located((By.XPATH,'//*[@id=\"value(input%d)\"]'%(i+1))))\n",
    "        driver.find_element_by_xpath('//*[@id=\"value(input%d)\"]'%(i+1)).send_keys(keywords[i])\n",
    "        #Add new Search Row\n",
    "        WebDriverWait(driver,5).until(EC.presence_of_element_located((By.XPATH,'//*[@id=\"addSearchRow%d\"]/span[1]'%(i+1))))\n",
    "        driver.find_element_by_xpath('//*[@id=\"addSearchRow%d\"]/span[1]'%(i+1)).click()\n",
    "        WebDriverWait(driver,5).until(EC.presence_of_element_located((By.XPATH,'//*[@id=\"select2-value(bool_%d_%d)-container\"]'%(i+1,i+2))))\n",
    "        driver.find_element_by_xpath('//*[@id=\"select2-value(bool_%d_%d)-container\"]'%(i+1,i+2)).click()\n",
    "        WebDriverWait(driver,5).until(EC.presence_of_element_located((By.XPATH,'//*[@id=\"select2-value(bool_%d_%d)-result-7put-OR\"]'%(i+1,i+2))))\n",
    "        driver.find_element_by_xpath('//*[@id=\"select2-value(bool_%d_%d)-result-7put-OR\"]'%(i+1,i+2)).click()\n",
    "        a=a+5\n",
    "    return"
   ]
  },
  {
   "cell_type": "code",
   "execution_count": null,
   "metadata": {
    "collapsed": true
   },
   "outputs": [],
   "source": [
    "def select_year(driver,year):\n",
    "    \"\"\"\n",
    "    Function to select year\n",
    "    \"\"\"\n",
    "    driver.find_element_by_xpath('//*[@id=\"periodRange\"]').click()\n",
    "    a1=101\n",
    "    a2=18\n",
    "    b=year-2000\n",
    "    #Start year\n",
    "    #Opening dropdown of starting year\n",
    "    driver.find_element_by_xpath('//*[@id=\"s2id_autogen4\"]/a').click()\n",
    "    #Select year from dropdown\n",
    "    a=a1+b\n",
    "    driver.find_element_by_xpath('//*[@id=\"select2-results-5\"]/li[%d]'%a).click()\n",
    "    #Opening dropdown of ending year\n",
    "    driver.find_element_by_xpath('//*[@id=\"s2id_autogen6\"]/a').click()\n",
    "    #Select year from dropdown\n",
    "    a=a2-b\n",
    "    driver.find_element_by_xpath('//*[@id=\"select2-results-7\"]/li[%d]'%a).click()\n",
    "    return"
   ]
  },
  {
   "cell_type": "code",
   "execution_count": null,
   "metadata": {
    "collapsed": true
   },
   "outputs": [],
   "source": [
    "def download_page(driver,page_no,file_format):\n",
    "    \"\"\"\n",
    "    Function to download page results\n",
    "    \"\"\"\n",
    "    WebDriverWait(driver,5).until(EC.presence_of_element_located((By.XPATH,'//*[@id=\"summary_navigation\"]/table/tbody/tr/td[2]/input')))\n",
    "    page=driver.find_element_by_xpath('//*[@id=\"summary_navigation\"]/table/tbody/tr/td[2]/input')\n",
    "    page.clear()\n",
    "    page.send_keys(page_no)\n",
    "    page.send_keys(Keys.RETURN)\n",
    "    #Open dropdown menu to save\n",
    "    WebDriverWait(driver,5).until(EC.presence_of_element_located((By.XPATH,'//*[@id=\"s2id_saveToMenu\"]/a/span[2]/b')))\n",
    "    driver.find_element_by_xpath('//*[@id=\"s2id_saveToMenu\"]/a/span[2]/b').click()\n",
    "    #Click to other file formats\n",
    "    WebDriverWait(driver,5).until(EC.presence_of_element_located((By.XPATH,'//*[@id=\"select2-results-1\"]/li[5]')))\n",
    "    driver.find_element_by_xpath('//*[@id=\"select2-results-1\"]/li[5]').click()\n",
    "    #Full Record\n",
    "    WebDriverWait(driver,5).until(EC.presence_of_element_located((By.ID,'bib_fields')))\n",
    "    driver.find_element_by_id('bib_fields').click()\n",
    "    WebDriverWait(driver,5).until(EC.presence_of_element_located((By.ID,'bib_fields:fullrec_fields_option')))\n",
    "    driver.find_element_by_id('bib_fields:fullrec_fields_option').click()\n",
    "    #Choose Plain Text format\n",
    "    WebDriverWait(driver,5).until(EC.presence_of_element_located((By.ID,'saveOptions')))\n",
    "    dropdown = driver.find_element_by_id('saveOptions')\n",
    "    Select(dropdown).select_by_visible_text(file_format)\n",
    "    #Click on send button\n",
    "    WebDriverWait(driver,5).until(EC.presence_of_element_located((By.XPATH,'//*[@id=\"ui-id-7\"]/form/div[4]/span/input')))\n",
    "    driver.find_element_by_xpath('//*[@id=\"ui-id-7\"]/form/div[4]/span/input').click()\n",
    "    #Click on close button after download\n",
    "    WebDriverWait(driver,5).until(EC.presence_of_element_located((By.XPATH,'//*[@id=\"ui-id-7\"]/form/div[2]/a')))\n",
    "    driver.find_element_by_xpath('//*[@id=\"ui-id-7\"]/form/div[2]/a').click()\n",
    "    return"
   ]
  },
  {
   "cell_type": "code",
   "execution_count": null,
   "metadata": {
    "collapsed": true
   },
   "outputs": [],
   "source": [
    "def webofscience(username,password,keywords,year,pages,file_format):\n",
    "    \"\"\"\n",
    "    Function to download results from Compendex\n",
    "    \"\"\"\n",
    "    #Initializing driver\n",
    "    driver = webdriver.Chrome()\n",
    "    driver.get(\"http://login.webofknowledge.com\")\n",
    "    #WOS Login\n",
    "    wos_login(driver,username,password)\n",
    "    #Add Keywords\n",
    "    keyword_search(driver,keywords)\n",
    "    #Add Year\n",
    "    select_year(driver,year)\n",
    "    #Click on search\n",
    "    a=9\n",
    "    b=8-len(keywords)\n",
    "    a=a-b\n",
    "    WebDriverWait(driver,5).until(EC.presence_of_element_located((By.XPATH,'//*[@id=\"searchCell%d\"]'%a)))\n",
    "    driver.find_element_by_xpath('//*[@id=\"searchCell%d\"]'%a).click()\n",
    "    #Increase page size to 50 results per page\n",
    "    WebDriverWait(driver,5).until(EC.presence_of_element_located((By.XPATH,'//*[@id=\"s2id_selectPageSize_.bottom\"]/a')))\n",
    "    driver.find_element_by_xpath('//*[@id=\"s2id_selectPageSize_.bottom\"]/a').click()\n",
    "    WebDriverWait(driver,5).until(EC.presence_of_element_located((By.XPATH,'//*[@id=\"select2-results-5\"]/li[3]')))\n",
    "    driver.find_element_by_xpath('//*[@id=\"select2-results-5\"]/li[3]').click()\n",
    "    for i in pages:\n",
    "        download_page(driver,i,file_format)\n",
    "    return"
   ]
  },
  {
   "cell_type": "code",
   "execution_count": null,
   "metadata": {
    "collapsed": true
   },
   "outputs": [],
   "source": [
    "#Registered User Email Address\n",
    "username = '<Email Address>'\n",
    "#Registered User Password\n",
    "password = '<Password>'\n",
    "#List of keywords\n",
    "keywords = ['keyword 1','keyword 2']\n",
    "#Year\n",
    "year = 2016\n",
    "#Pages to download (you can use range function here)\n",
    "pages = [1]\n",
    "#File format\n",
    "#It can be 'BibTex', 'HTML', 'Plain Text', 'Tab-delimited (Win)', 'Tab-delimited (Mac)', \n",
    "#'Tab-delimited (Win, UTF-8)' and 'Tab-delimited (Win, UTF-8)'\n",
    "file_format = 'Plain Text'\n",
    "#Download Results\n",
    "webofscience(username,password,keywords,year,pages,file_format)"
   ]
  }
 ],
 "metadata": {
  "anaconda-cloud": {},
  "kernelspec": {
   "display_name": "Python 3",
   "language": "python",
   "name": "python3"
  },
  "language_info": {
   "codemirror_mode": {
    "name": "ipython",
    "version": 3
   },
   "file_extension": ".py",
   "mimetype": "text/x-python",
   "name": "python",
   "nbconvert_exporter": "python",
   "pygments_lexer": "ipython3",
   "version": "3.6.1"
  }
 },
 "nbformat": 4,
 "nbformat_minor": 2
}
